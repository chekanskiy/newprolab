{
 "cells": [
  {
   "cell_type": "code",
   "execution_count": 3,
   "metadata": {
    "collapsed": true
   },
   "outputs": [],
   "source": [
    "import pandas as pd"
   ]
  },
  {
   "cell_type": "code",
   "execution_count": null,
   "metadata": {
    "collapsed": true
   },
   "outputs": [],
   "source": [
    "path = ''\n",
    "df_"
   ]
  },
  {
   "cell_type": "code",
   "execution_count": null,
   "metadata": {
    "collapsed": true
   },
   "outputs": [],
   "source": []
  },
  {
   "cell_type": "code",
   "execution_count": 2,
   "metadata": {
    "collapsed": true
   },
   "outputs": [],
   "source": [
    "list_target_texts = [1, 2562, 1539, 3588, 3593, 2575, 939, 2066, 2579, 22, 3607, 536, 1561, 1054, 31, 2481, 1571, 3626, 2603, 45, 1076, 569, 570, 2656, 579, 3141, 1608, 586, 2635, 78, 1616, 1107, 3940, 2649, 2139, 2140, 607, 2144, 612, 1126, 1639, 2668, 2158, 3183, 636, 2174, 1151, 2688, 1666, 3203, 535, 3719, 3213, 3728, 2194, 147, 2708, 1174, 2712, 2201, 1691, 1180, 2206, 1697, 3748, 1701, 680, 2224, 1714, 3913, 695, 3256, 1726, 3775, 1728, 1217, 3780, 2758, 3783, 715, 2253, 110, 2258, 723, 1244, 1757, 2427, 3808, 2583, 1262, 240, 241, 60, 3827, 3830, 3456, 770, 3332, 262, 775, 776, 3850, 269, 273, 274, 2324, 789, 3547, 2337, 290, 2339, 1331, 2863, 2782, 3378, 307, 52, 2361, 2362, 3387, 3901, 833, 2884, 3397, 2374, 1154, 2891, 2896, 3409, 1849, 1367, 857, 3418, 347, 656, 1885, 2398, 1892, 2921, 829, 880, 1394, 2931, 2423, 888, 891, 382, 1920, 2028, 1928, 909, 3473, 2450, 1432, 581, 1437, 1951, 2977, 2467, 932, 2984, 413, 1963, 2992, 1457, 2377, 950, 1525, 3516, 1469, 587, 3007, 2806, 3545, 2510, 967, 3576, 462, 2126, 2003, 2006, 3544, 1227, 2010, 153, 2526, 2531, 375, 999, 2025, 2538, 3240, 2548, 1013, 887, 1016, 3065, 1020, 510, 511]"
   ]
  },
  {
   "cell_type": "code",
   "execution_count": null,
   "metadata": {
    "collapsed": true
   },
   "outputs": [],
   "source": []
  }
 ],
 "metadata": {
  "kernelspec": {
   "display_name": "Python 3",
   "language": "python",
   "name": "python3"
  },
  "language_info": {
   "codemirror_mode": {
    "name": "ipython",
    "version": 3
   },
   "file_extension": ".py",
   "mimetype": "text/x-python",
   "name": "python",
   "nbconvert_exporter": "python",
   "pygments_lexer": "ipython3",
   "version": "3.5.2"
  }
 },
 "nbformat": 4,
 "nbformat_minor": 0
}
