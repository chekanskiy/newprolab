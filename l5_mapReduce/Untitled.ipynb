{
 "cells": [
  {
   "cell_type": "code",
   "execution_count": 3,
   "metadata": {
    "collapsed": false
   },
   "outputs": [],
   "source": [
    "import sys\n",
    "pre"
   ]
  },
  {
   "cell_type": "code",
   "execution_count": null,
   "metadata": {
    "collapsed": true
   },
   "outputs": [],
   "source": [
    "def do_map(line):\n",
    "    print(line)"
   ]
  },
  {
   "cell_type": "code",
   "execution_count": null,
   "metadata": {
    "collapsed": true
   },
   "outputs": [],
   "source": [
    "#reducer.py\n",
    "import sys\n",
    "prev_key = None\n",
    "values = []\n",
    "def print_res(key, values):\n",
    "    avg = sum(values)/len(values)\n",
    "    if avg > 4.5:\n",
    "        print(\"%s\\t%.2f\" % (key, avg)) \n",
    "for line in sys.stdin:\n",
    "    key, value = line.strip().split(\"\\t\")\n",
    "    if key != prev_key and prev_key is not None:\n",
    "        print_res(prev_key, values)\n",
    "        values = []\n",
    "    values.append(float(value))\n",
    "    prev_key = key\n",
    "if prev_key is not None:\n",
    "    print_res(prev_key, values)\n",
    "        "
   ]
  },
  {
   "cell_type": "code",
   "execution_count": null,
   "metadata": {
    "collapsed": true
   },
   "outputs": [],
   "source": [
    "for line in sys.stdin:"
   ]
  }
 ],
 "metadata": {
  "kernelspec": {
   "display_name": "Python 3",
   "language": "python",
   "name": "python3"
  },
  "language_info": {
   "codemirror_mode": {
    "name": "ipython",
    "version": 3
   },
   "file_extension": ".py",
   "mimetype": "text/x-python",
   "name": "python",
   "nbconvert_exporter": "python",
   "pygments_lexer": "ipython3",
   "version": "3.5.2"
  }
 },
 "nbformat": 4,
 "nbformat_minor": 0
}
